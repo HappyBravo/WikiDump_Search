{
 "cells": [
  {
   "cell_type": "markdown",
   "metadata": {},
   "source": [
    "# IMPORTS\n"
   ]
  },
  {
   "cell_type": "code",
   "execution_count": 5,
   "metadata": {},
   "outputs": [],
   "source": [
    "from wikiDumpSearch import offline_Wiki"
   ]
  },
  {
   "cell_type": "markdown",
   "metadata": {},
   "source": [
    "# FILE PATHS"
   ]
  },
  {
   "cell_type": "code",
   "execution_count": 6,
   "metadata": {},
   "outputs": [],
   "source": [
    "WIKI_INDEX_FILE = \"D://WikiDump/enwiki-20240220-pages-articles-multistream-index.txt/enwiki-20240220-pages-articles-multistream-index.txt\"\n",
    "WIKI_BZ2_FILE = \"D://WikiDump/enwiki-20240220-pages-articles-multistream.xml.bz2\"\n",
    "\n",
    "INDEX_FOLDER = \"./indexes/\""
   ]
  },
  {
   "cell_type": "code",
   "execution_count": 7,
   "metadata": {},
   "outputs": [],
   "source": [
    "offlineWikipedia = offline_Wiki(wiki_index_file=WIKI_INDEX_FILE,\n",
    "                                wikiDump_bz2_file=WIKI_BZ2_FILE,\n",
    "                                index_folder=INDEX_FOLDER,\n",
    "                                verbose=True)"
   ]
  },
  {
   "cell_type": "markdown",
   "metadata": {},
   "source": [
    "# TESTING"
   ]
  },
  {
   "cell_type": "code",
   "execution_count": 23,
   "metadata": {},
   "outputs": [
    {
     "name": "stdout",
     "output_type": "stream",
     "text": [
      "near words similar to bharat : ['Betty (French Film)', 'Bi.']\n",
      "Similar keywords found in Wiki : ['Bharat']\n",
      "Wanted : Bharat\n",
      "Byte start : 8311013718, Byte end : 8311105697\n",
      "Page cleaning done... \n",
      "Got Title : Bharat, \n",
      "Cleaned page body : Bharat, or Bharath, may refer to:\n",
      "Bharat (term), the name for India in  various Indian languages\n",
      "* India, a country\n",
      "* Bharata Khanda, the Sanskrit name for the Indian subcontinent\n",
      "* Bharatavarsha, another Sanskrit name for the Indian subcontinent\n",
      "Bharat (given name), a contemporary given name (including a list of people with the name)\n",
      "Bharat (film), a 2019 Indian Hindi-language drama by Ali Abbas Zafar\n",
      "Bharat Biotech, an Indian biotechnology company\n",
      "Bharat Electronics, an Indian aerospace and defence company\n",
      "Bharat FC, a former Indian professional football team\n",
      "Bharat Petroleum, an Indian oil and gas company\n",
      "Bharat stage emission standards, a set of Indian emissions standards\n",
      "Barat, Bannu, also Bharat, a village in Khyber Pakhtunkhwa, Pakistan\n",
      "Bharath (actor) (born 1983), Indian film actor\n",
      "Bharath University, in Chennai, India\n",
      "==See also==\n",
      "Bharata (disambiguation)\n",
      "Barat (disambiguation)\n",
      "Bharati (disambiguation)\n",
      "Bharti (disambiguation)\n",
      "Bharatvarsh (TV series), Indian television documentary about the history of India\n",
      "Bhārata Mātā, the national personification of India as a mother goddess\n",
      "Bharathar, a Tamil caste in Tamil Nadu, India\n",
      "Bharathan (disambiguation)\n",
      "Bharatha people, Bharathar in Sri Lanka\n",
      "Baratha (moth), a synonym of genus Mocis\n",
      "Mahābhārata, a Sanskrit epic of ancient India \n",
      "Page url : https://en.wikipedia.org/wiki/Bharat, \n",
      "\n",
      "Fuzzy similarity between Bharat and Bharat is 100\n"
     ]
    },
    {
     "name": "stderr",
     "output_type": "stream",
     "text": [
      "Found page title, first 600 characters: <page>\n",
      "    <title>Bharat</title>\n",
      "    <ns>0</ns>\n",
      "    <id>18131472</id>\n",
      "    <revision>\n",
      "      <id>1184778697</id>\n",
      "      <parentid>1184434490</parentid>\n",
      "      <timestamp>2023-11-12T15:42:27Z</timestamp>\n",
      "      <contributor>\n",
      "        <username>Crashed greek</username>\n",
      "        <id>28968450</id>\n",
      "      </contributor>\n",
      "      <comment>/* See also */ add</comment>\n",
      "      <model>wikitext</model>\n",
      "      <format>text/x-wiki</format>\n",
      "      <text bytes=\"1773\" xml:space=\"preserve\">{{pp-semi-indef|small=yes}}\n",
      "{{Wiktionary|Bharat|भारत}}\n",
      "'''Bharat''', or '''Bharath''', may refer to:\n",
      "* [[Bharat (term)]], the name for I\n",
      "Found end page tag\n"
     ]
    },
    {
     "data": {
      "text/plain": [
       "'Bharat, or Bharath, may refer to:\\nBharat (term), the name for India in  various Indian languages\\n* India, a country\\n* Bharata Khanda, the Sanskrit name for the Indian subcontinent\\n* Bharatavarsha, another Sanskrit name for the Indian subcontinent\\nBharat (given name), a contemporary given name (including a list of people with the name)\\nBharat (film), a 2019 Indian Hindi-language drama by Ali Abbas Zafar\\nBharat Biotech, an Indian biotechnology company\\nBharat Electronics, an Indian aerospace and defence company\\nBharat FC, a former Indian professional football team\\nBharat Petroleum, an Indian oil and gas company\\nBharat stage emission standards, a set of Indian emissions standards\\nBarat, Bannu, also Bharat, a village in Khyber Pakhtunkhwa, Pakistan\\nBharath (actor) (born 1983), Indian film actor\\nBharath University, in Chennai, India\\n==See also==\\nBharata (disambiguation)\\nBarat (disambiguation)\\nBharati (disambiguation)\\nBharti (disambiguation)\\nBharatvarsh (TV series), Indian television documentary about the history of India\\nBhārata Mātā, the national personification of India as a mother goddess\\nBharathar, a Tamil caste in Tamil Nadu, India\\nBharathan (disambiguation)\\nBharatha people, Bharathar in Sri Lanka\\nBaratha (moth), a synonym of genus Mocis\\nMahābhārata, a Sanskrit epic of ancient India'"
      ]
     },
     "execution_count": 23,
     "metadata": {},
     "output_type": "execute_result"
    }
   ],
   "source": [
    "wikiresult = offlineWikipedia.word_match(\"bharat\", verbose=True, summaryOnly=False)\n",
    "wikiresult[\"summary\"]"
   ]
  },
  {
   "cell_type": "code",
   "execution_count": 4,
   "metadata": {},
   "outputs": [
    {
     "name": "stdout",
     "output_type": "stream",
     "text": [
      "near words similar to tiger : ['Thurvaston', 'Til Death Do Us Part  Carmen   Dave']\n",
      "Similar keywords found in Wiki : ['Tiger', 'Tiger Tiger', 'Tiger tiger']\n",
      "Wanted : Tiger\n",
      "Byte start : 213241905, Byte end : 214532987\n",
      "Page cleaning done... \n",
      "Got Title : Tiger, \n",
      "Cleaned page body : The tiger (Panthera tigris) is the largest living cat species and a member of the genus Panthera. It is most recognisable for its black stripes on orange fur with a white underside. An apex predator, it primarily preys on ungulates, such as deer and wild boar. It is territorial and generally a solitary but social predator, requiring large contiguous areas of habitat to support its requirements for prey and rearing of its offspring. Tiger cubs stay with their mother for about two years and then become independent, leaving their mother's [range] to establish their own.\n",
      "The tiger was first scientifically described in 1758. It once ranged widely from the Eastern Anatolia Region in the west to the Amur River basin in the east, and in the south from the foothills of the Himalayas to Bali in the Sunda Islands. Since the early 20th century, tiger populations have lost at least 93% of their historic range and have been extirpated from Western and Central Asia, the islands of Java and Bali, and in large areas of Southeast and South Asia and China. What remains of the range where tigers still roam free is fragmented, stretching in spots from Siberian temperate forests to subtropical and tropical forests on the Indian subcontinent, Indochina and a single Indonesian island, Sumatra.\n",
      "The tiger is listed as Endangered on the IUCN Red List. India hosts the largest tiger population. Major reasons for population decline are [destruction], [fragmentation] and poaching. Tigers are also victims of [conflict], due to encroachment in countries with a high human population density.\n",
      "The tiger is among the most recognisable and popular of the world's charismatic megafauna. It featured prominently in the ancient mythology and folklore of cultures throughout its historic range and continues to be depicted in modern films and literature, appearing on many flags, coats of arms and as mascots for sporting teams. The tiger is the national animal of India, Bangladesh, Malaysia and South Korea.\n",
      " \n",
      "Page url : https://en.wikipedia.org/wiki/Tiger, \n",
      "\n",
      "Fuzzy similarity between Tiger and Tiger is 100\n"
     ]
    },
    {
     "name": "stderr",
     "output_type": "stream",
     "text": [
      "Found page title, first 600 characters: <page>\n",
      "    <title>Tiger</title>\n",
      "    <ns>0</ns>\n",
      "    <id>30075</id>\n",
      "    <revision>\n",
      "      <id>1209138561</id>\n",
      "      <parentid>1209133589</parentid>\n",
      "      <timestamp>2024-02-20T14:05:04Z</timestamp>\n",
      "      <contributor>\n",
      "        <username>BhagyaMani</username>\n",
      "        <id>6518951</id>\n",
      "      </contributor>\n",
      "      <comment>/* Behaviour and ecology */ convert &gt; cvt; edited refs</comment>\n",
      "      <model>wikitext</model>\n",
      "      <format>text/x-wiki</format>\n",
      "      <text bytes=\"136150\" xml:space=\"preserve\">{{Short description|Largest species of the cat family}}\n",
      "{{redirect|Tigress|other uses|Tiger (disambigua\n",
      "Found end page tag\n"
     ]
    }
   ],
   "source": [
    "wikiresult = offlineWikipedia.word_match(\"tiger\", verbose=True)\n"
   ]
  },
  {
   "cell_type": "code",
   "execution_count": 5,
   "metadata": {},
   "outputs": [
    {
     "name": "stdout",
     "output_type": "stream",
     "text": [
      "Tiger\n",
      "https://en.wikipedia.org/wiki/Tiger\n",
      "The tiger (Panthera tigris) is the largest living cat species and a member of the genus Panthera. It is most recognisable for its black stripes on orange fur with a white underside. An apex predator, it primarily preys on ungulates, such as deer and wild boar. It is territorial and generally a solitary but social predator, requiring large contiguous areas of habitat to support its requirements for prey and rearing of its offspring. Tiger cubs stay with their mother for about two years and then become independent, leaving their mother's [range] to establish their own.\n",
      "The tiger was first scientifically described in 1758. It once ranged widely from the Eastern Anatolia Region in the west to the Amur River basin in the east, and in the south from the foothills of the Himalayas to Bali in the Sunda Islands. Since the early 20th century, tiger populations have lost at least 93% of their historic range and have been extirpated from Western and Central Asia, the islands of Java and Bali, and in large areas of Southeast and South Asia and China. What remains of the range where tigers still roam free is fragmented, stretching in spots from Siberian temperate forests to subtropical and tropical forests on the Indian subcontinent, Indochina and a single Indonesian island, Sumatra.\n",
      "The tiger is listed as Endangered on the IUCN Red List. India hosts the largest tiger population. Major reasons for population decline are [destruction], [fragmentation] and poaching. Tigers are also victims of [conflict], due to encroachment in countries with a high human population density.\n",
      "The tiger is among the most recognisable and popular of the world's charismatic megafauna. It featured prominently in the ancient mythology and folklore of cultures throughout its historic range and continues to be depicted in modern films and literature, appearing on many flags, coats of arms and as mascots for sporting teams. The tiger is the national animal of India, Bangladesh, Malaysia and South Korea.\n",
      "\n"
     ]
    }
   ],
   "source": [
    "print(wikiresult[\"title\"])\n",
    "print(wikiresult[\"url\"])\n",
    "print(wikiresult[\"summary\"])"
   ]
  },
  {
   "cell_type": "code",
   "execution_count": 6,
   "metadata": {},
   "outputs": [
    {
     "name": "stderr",
     "output_type": "stream",
     "text": [
      "Found page title, first 600 characters: <page>\n",
      "    <title>Tiger</title>\n",
      "    <ns>0</ns>\n",
      "    <id>30075</id>\n",
      "    <revision>\n",
      "      <id>1209138561</id>\n",
      "      <parentid>1209133589</parentid>\n",
      "      <timestamp>2024-02-20T14:05:04Z</timestamp>\n",
      "      <contributor>\n",
      "        <username>BhagyaMani</username>\n",
      "        <id>6518951</id>\n",
      "      </contributor>\n",
      "      <comment>/* Behaviour and ecology */ convert &gt; cvt; edited refs</comment>\n",
      "      <model>wikitext</model>\n",
      "      <format>text/x-wiki</format>\n",
      "      <text bytes=\"136150\" xml:space=\"preserve\">{{Short description|Largest species of the cat family}}\n",
      "{{redirect|Tigress|other uses|Tiger (disambigua\n",
      "Found end page tag\n"
     ]
    }
   ],
   "source": [
    "wikiresult_withContent = offlineWikipedia.word_match(\"tiger\", summaryOnly=False)"
   ]
  },
  {
   "cell_type": "code",
   "execution_count": 7,
   "metadata": {},
   "outputs": [
    {
     "name": "stdout",
     "output_type": "stream",
     "text": [
      "Tiger\n",
      "https://en.wikipedia.org/wiki/Tiger\n",
      "The tiger (Panthera tigris) is the largest living cat species and a member of the genus Panthera. It is most recognisable for its black stripes on orange fur with a white underside. An apex predator, it primarily preys on ungulates, such as deer and wild boar. It is territorial and generally a solitary but social predator, requiring large contiguous areas of habitat to support its requirements for prey and rearing of its offspring. Tiger cubs stay with their mother for about two years and then become independent, leaving their mother's [range] to establish their own.\n",
      "The tiger was first scientifically described in 1758. It once ranged widely from the Eastern Anatolia Region in the west to the Amur River basin in the east, and in the south from the foothills of the Himalayas to Bali in the Sunda Islands. Since the early 20th century, tiger populations have lost at least 93% of their historic range and have been extirpated from Western and Central Asia, the islands of Java and Bali, and in large areas of Southeast and South Asia and China. What remains of the range where tigers still roam free is fragmented, stretching in spots from Siberian temperate forests to subtropical and tropical forests on the Indian subcontinent, Indochina and a single Indonesian island, Sumatra.\n",
      "The tiger is listed as Endangered on the IUCN Red List. India hosts the largest tiger population. Major reasons for population decline are [destruction], [fragmentation] and poaching. Tigers are also victims of [conflict], due to encroachment in countries with a high human population density.\n",
      "The tiger is among the most recognisable and popular of the world's charismatic megafauna. It featured prominently in the ancient mythology and folklore of cultures throughout its historic range and continues to be depicted in modern films and literature, appearing on many flags, coats of arms and as mascots for sporting teams. The tiger is the national animal of India, Bangladesh, Malaysia and South Korea.\n",
      "== Etymology ==\n",
      "The Middle English tigre and Old English tigras derive from Old French tigre, from Latin tigris. This was a borrowing of Classical Greek τίγρις 'tigris', a foreign borrowing of unknown origin meaning 'tiger' and the river Tigris.\n",
      "The generic name Panthera is derived from the Latin word panthera and the Ancient Greek word πάνθηρ pánthēr.\n",
      "== Taxonomy ==\n",
      "In 1758, Carl Linnaeus described the tiger in his work Systema Naturae and gave it the scientific name Felis tigris. In 1929, the British taxonomist Reginald Innes Pocock subordinated the species under the genus Panthera using the scientific name Panthera tigris.\n",
      "=== Subspecies ===\n",
      "Following Linnaeus's first descriptions of the species, several tiger zoological specimens were described and proposed as subspecies. The validity of several tiger subspecies was questioned in 1999. Most putative subspecies described in the 19th and 20th centuries were distinguished on the basis of fur length and colouration, striping patterns and body size, hence characteristics that vary widely within populations. Morphologically, tigers from different regions vary little, and gene flow between populations in those regions is considered to have been possible during the Pleistocene. Therefore, it was proposed to recognize only two tiger subspecies as valid, namely P. t. tigris in mainland Asia, and P. t. sondaica in the Greater Sunda Islands. Mainland tigers are described as being larger in size with generally lighter fur and fewer stripes, while island tigers are smaller due to insular dwarfism, with darker coats and more numerous stripes. The stripes of island tigers may break up into spotted patterns.\n",
      "This two-subspecies proposal was reaffirmed in 2015 by a comprehensive analysis of morphological, ecological and molecular traits of all putative tiger subspecies using a combined approach. The authors proposed recognition of only two subspecies, namely P. t. tigris comprising the Bengal, Malayan, Indochinese, South Chinese, Siberian and Caspian tiger populations of continental Asia, and P. t. sondaica comprising the Javan, Bali and Sumatran tiger populations of the Sunda Islands. The continental nominate subspecies P. t. tigris constitutes two clades: a northern clade composed of the Siberian and Caspian tiger populations, and a southern clade composed of all other mainland populations. The authors noted that this two-subspecies reclassification will impact tiger conservation management. It would make captive breeding programs and future re-wilding of zoo-born tigers easier, as one tiger population could then be used to reinforce another. However, there is the risk that the loss of subspecies uniqueness could lead to less protection efforts for specific populations.\n",
      "In 2017, the Cat Classification Task Force of the IUCN Cat Specialist Group revised felid taxonomy in accordance with the two-subspecies proposal of the comprehensive 2015 study, and recognized the tiger populations in continental Asia as P. t. tigris, and those in the Sunda Islands as P. t. sondaica. This two-subspecies view is still disputed by researchers, since the currently recognized six living subspecies can be distinguished genetically. Results of a 2018 whole-genome sequencing of 32 samples support six monophyletic tiger clades corresponding with the six living subspecies and indicate they descended from a common ancestor around 110,000 years ago. Studies in 2021 and 2023 also affirmed the genetic distinctiveness and separation of these tigers.\n",
      "The following tables are based on the classification of the species Panthera tigris provided in Mammal Species of the World, and also reflect the classification used by the Cat Classification Task Force in 2017:\n",
      "=== Evolution ===\n",
      "The tiger's closest living relatives were previously thought to be the Panthera species lion, leopard and jaguar. Results of genetic analysis indicate that about 2.88&nbsp;million years ago, the tiger and the snow leopard lineages diverged from the other Panthera species, and that both may be more closely related to each other than to the lion, leopard and jaguar. \n",
      "The fossil species Panthera palaeosinensis of early Pleistocene northern China was described as a possible tiger ancestor when it was discovered in 1924, but modern cladistics place it as basal to modern Panthera. Panthera zdanskyi, which lived around the same time and place, was suggested to be a sister taxon of the modern tiger when it was examined in 2014. However, as of 2023, at least two recent studies considered P. zdanskyi likely to be a synonym of P. palaeosinensis, noting that its proposed differences from that species fell within the range of individual variation. The earliest appearance of the modern tiger species in the fossil record are jaw fragments from Lantion in China that are dated to the early Pleistocene. Middle to late Pleistocene tiger fossils were found throughout China, Sumatra and Java. Prehistoric subspecies include Panthera tigris trinilensis and P. t. soloensis of Java and Sumatra, and P. t. acutidens of China; late Pleistocene and early Holocene fossils of tigers were also found in Borneo and Palawan, Philippines.\n",
      "Results of a phylogeographic study indicate that all living tigers had a common ancestor 108,000 to 72,000 years ago. A 2022 paleogenomic study of a Pleistocene tiger basal to living tigers concluded that modern tiger populations spread across Asia no earlier than 94,000 years ago. There is evidence of interbreeding between the lineage of modern mainland tigers and these ancient tigers. The potential tiger range during the late Pleistocene and Holocene was predicted applying ecological niche modelling based on more than 500 tiger locality records combined with bioclimatic data. The resulting model shows a contiguous tiger range at the Last Glacial Maximum, indicating gene flow between tiger populations in mainland Asia. The tiger populations on the Sunda Islands and mainland Asia were possibly separated during interglacial periods.\n",
      "The tiger's full genome sequence was published in 2013. It was found to have repeat compositions much as other cat genomes and \"an appreciably conserved synteny\".\n",
      "=== Hybrids ===\n",
      "Captive tigers were bred with lions to create hybrids called liger and tigon. The former born to a female tiger and male lion and the latter the result of a male tiger and female lion. They share physical and behavioural qualities of both parent species. Because the lion sire passes on a growth-promoting gene, but the corresponding growth-inhibiting gene from the female tiger is absent, ligers grow far larger than either parent species. By contrast, the male tiger does not pass on a growth-promoting gene and the lioness passes on a growth inhibiting gene, hence tigons are around the same size as either species. Breeding hybrids is now discouraged due to the emphasis on conservation.\n",
      "== Characteristics ==\n",
      "The tiger has a typical felid morphology. It has a muscular body with strong forelimbs, a large head and a tail that is about half the length of the rest of its body. There are five digits on the front feet and four on the back, all of which have retractable claws which are compact and curved. The ears are rounded, while the eyes have a round pupil. The tiger's skull is large and robust, with a constricted front region, proportionally small, elliptical orbits, long nasal bones, and a lengthened cranium with a large sagittal crest. It is similar to a lion's skull; with the structure of the lower jaw and length of the nasals being the most reliable indicators for species identification. The tiger has fairly robust teeth and its somewhat curved canines are the longest in the cat family at . It has an average bite force at the canine tips of 1234.3 Newton.\n",
      "=== Size ===\n",
      "The tiger is considered to be the largest living felid species. However, there is some debate over averages compared to the lion. Since tiger populations vary greatly in size, the \"average\" size for a tiger may be less than a lion, while the biggest tigers are bigger than their lion counterparts. The Siberian and Bengal tigers, along with the extinct Caspian are considered to be the largest of the species while the island tigers are the smallest. The Sumatran tiger is the smallest living tiger while the extinct Bali tiger was even smaller. It has been hypothesised that body size of different tiger populations may be correlated with climate and be explained by thermoregulation and Bergmann's rule. Male tigers are larger than females.\n",
      "===Coat===\n",
      "Tiger fur tends to be short, except in the northern-living Siberian tiger. It has a mane-like heavy growth of fur around the neck and jaws and long whiskers, especially in males. Its colouration is generally orange, but can vary from light yellow to dark red. White fur covers the ventral surface, along with parts of the face. It also has a prominent white spot on the back of their ears which are surrounded by black. The tiger is marked with distinctive black or dark brown stripes; the patterns of which are unique in each individual. The stripes are mostly vertical, but those on the limbs and forehead are horizonal. They are more concentrated towards the posterior and those on the trunk may or may not reach under the belly. The tips of stripes are generally sharp and some have gaps within them. Tail stripes are thick bands and a black tip marks the end. \n",
      "Stripes are likely advantageous for camouflage in vegetation with vertical patterns of light and shade, such as trees and long grass. This is supported by a 1987 Fourier analysis study which concluded that the spatial frequencies of tiger stripes line up with their environment. The tiger is one of only a few striped cat species; it is not known why spotted patterns and rosettes are the more common camouflage pattern among felids. The orange colour may also aid in concealment as the tiger's prey are dichromats, and thus may perceive the cat as green and blended in with the vegetation. The white dots on the ear may play a role in communication.\n",
      "==== Colour variations ====\n",
      "Three colour variants – white, golden and nearly stripeless snow white are now virtually non-existent in the wild due to the reduction of wild tiger populations, but continue in captive populations. The white tiger has a white background colour with sepia-brown stripes. The golden tiger is pale golden with reddish-brown stripes. The snow white tiger is a morph with extremely faint stripes and a pale reddish-brown ringed tail. White and golden morphs are the result of an autosomal recessive trait with a white locus and a wideband locus respectively. The snow white variation is a caused by polygenes with both the white and wideband loci.\n",
      "The breeding of white tigers is controversial, as they have no use for conservation. Only 0.001% of wild tigers have the genes for this colour morph, and the overrepresentation of white tigers in captivity is the result of inbreeding. Hence their continued breeding will risk both inbreeding depression and loss of genetic variability in captive tigers.\n",
      "Pseudo-melanistic tigers with thick, merged stripes have been recorded in Simlipal National Park and three Indian zoos; population genetic analysis of Indian tiger samples revealed that this phenotype is caused by a mutation of a transmembrane aminopeptidase gene. Around 37% of the Simlipal tiger population has this feature, which has been linked to genetic isolation.\n",
      "== Distribution and habitat ==\n",
      "The tiger historically ranged from eastern Pakistan to Indochina, and from southeastern Siberia to Sumatra, Java and Bali. The Caspian tiger lived from eastern Turkey and the South Caucasus to northern Afghanistan and western China. The Tibetan Plateau and the Alborz acted as barriers to the species distribution. As of 2022, it inhabits less than 7% of its historical distribution, and has a scattered range that includes the Indian subcontinent, the Indochinese Peninsula, Sumatra and the Russian Far East/Northeast China.\n",
      "The tiger mainly lives in forest habitats and is highly adaptable. In the Amur-Ussuri region, it inhabits Korean pine and temperate broadleaf and mixed forests, where riparian forests provide food and water, and serve as dispersal corridors for both tiger and ungulates. On the Indian subcontinent, it inhabits mainly tropical and subtropical moist broadleaf forests, moist evergreen forests, tropical dry forests, alluvial plains and the mangrove forests of the Sundarbans. In the Eastern Himalayas, tigers were documented in temperate forest up to an elevation of  in Bhutan and of  in the Mishmi Hills. In Thailand, it lives in deciduous and evergreen forests. In Sumatra, tiger populations range from lowland peat swamp forests to rugged montane forests. Records in Central Asia indicate that it occurred foremost in Tugay riverine forests while in the Caucasus, it inhabited hilly and lowland forests.\n",
      "==Behaviour and ecology==\n",
      "The tiger is a long-ranging species, and individuals disperse over distances of up to  to reach tiger populations in other areas. As with other felid species, tigers groom themselves, maintaining their coats by licking them and spreading oil from their sebaceous glands. It will take to water, particularly on hot days. It is a powerful swimmer and easily transverses across rivers as wide as . Adults only occasionally climbs trees, but have been recorded climbing  up a smooth pipal tree. In general, tigers are less capable tree climbers than many other cats due to their size, but cubs under 16 months old may routinely do so.\n",
      "When not subject to human disturbance, the tiger is mainly diurnal.\n",
      "In Sundarbans National Park, six radio-collared tigers were most active in the early morning with a peak around dawn and moved an average distance of  per day.\n",
      "A three-year long camera trap survey in Shuklaphanta National Park revealed that tigers were most active from dusk until midnight.\n",
      "In northeastern China, tigers were crepuscular and active at night with activity peaking at dawn and at dusk; they exhibited a high temporal overlap with wild boar, roe deer and sika deer.\n",
      "===Social spacing===\n",
      "Adult tigers lead largely solitary lives. They establish and maintain territories but have much wider home ranges within which they roam. Resident adults of either sex generally confine their movements to their [range]s, within which they satisfy their needs and those of their growing cubs. Individuals sharing the same area are aware of each other's movements and activities. The size of the home range mainly depends on prey abundance, geographic area and sex of the individual. Two females in the Sundarbans had home ranges of . In Panna Tiger Reserve, the home ranges of five reintroduced females varied from  in winter to  in summer and to  during monsoon; three males had  large home ranges in winter,  in summer and  during monsoon seasons. In Huai Kha Khaeng Wildlife Sanctuary, seven resident females had home ranges of  and four resident males of .\n",
      "Four male problem tigers in Sumatra were translocated to national parks and needed 6–17 weeks to establish new home ranges of .\n",
      "Ten solitary females in Sikhote-Alin Biosphere Reserve had home ranges of ; when they had cubs of up to 4 months of age, their home ranges declined to  and steadily grew to  until the cubs were 13–18 months old.\n",
      "Young tigresses establish their first territories close to their mother's. Males, however, migrate further than their female counterparts and set out at a younger age to mark out their own area. Four radio-collared females in Chitwan National Park dispersed between , and 10 males between . A young male may have to live as a transient in another male's territory until he is older and strong enough to challenge the resident male. Young males thus have a annual mortality rate of up to 35%. By contrast, young female tigers die at a rate of only around 5%. Tigers mark their territories by spraying urine on vegetation and rocks, clawing or scent rubbing trees, and marking trails with feces, anal gland secretions and ground scrapings. Scent markings also allow an individual to pick up information on another's identity. A tigress in oestrus will signal her availability by scent marking more frequently and increasing her vocalisations. Unclaimed territories, particularly those that belonged to a decreased individual, can be taken over in days or weeks.\n",
      "Male tigers are generally less tolerant of other males within their territories than females are of other females. Territory disputes are usually solved by intimidation rather than outright violence. Once dominance has been established, a male may tolerate a subordinate within his range, as long as they do not live in too close quarters. The most serious disputes tend to occur between two males competing for a female in oestrus. Though tigers mostly live alone, relationships between individuals can be complex. Tigers are particularly social at kills, and a male tiger will share a carcass with the females and cubs within this territory and unlike male lions, will allow them feed on the kill before the he is finished with it. Though the female and male act amicably, females are more tense towards each other at a kill.\n",
      "===Communication===\n",
      "During friendly encounters and bonding, tigers rub against each others' bodies. Facial expressions include the \"defense threat\", which involves a wrinkled face, bared teeth, pulled-back ears, and widened pupils. Both males and females show a flehmen response, a characteristic grimace, when sniffing urine markings. Males also use the flehman to detect the markings made by tigresses in oestrus. Tigers also use their tails to signal their mood. To show cordiality, the tail sticks up and sways slowly, while an apprehensive tiger lowers its tail or wags it side-to-side. When calm, the tail hangs low.\n",
      "Tigers roar to signal their presence to other individuals over long distances. This vocalisation is forced through an open mouth as it closes and can be heard  away. They may roar three or four times in a row, and other tigers may respond in kind. Tigers also roar during mating, and a mother will roar to call her cubs to her. When tense, tigers will moan, a sound similar to a roar but softer and made when the mouth is at least partially closed. Moaning can be heard  away. Aggressive encounters involve growling, snarling and hissing. During an attack, an explosive \"coughing roar\" or \"coughing snarl\" is emitted through an open mouth and exposed teeth. Chuffing—soft, low-frequency snorting similar to purring in smaller cats—is heard in more friendly situations. Mother tigers communicate with their cubs by grunting, while cubs call back with miaows.\n",
      "=== Hunting and diet ===\n",
      "The tiger is a carnivore and an apex predator. It feeds mainly on ungulates, with a particular preference for sambar deer, Manchurian wapiti, barasingha and wild boar. Tigers will kill larger prey like gaur, but opportunistically eat much smaller prey, such as monkeys, peafowl and other ground-based birds, porcupines and fish. Tiger attacks on adult Asian elephants and Indian rhinoceros have also been reported. More often, tigers take the more vulnerable small calves. When in close proximity to humans, tigers sometimes prey on domestic livestock and dogs. Although almost exclusively carnivorous, tigers occasionally consume vegetation, fruit and minerals for dietary fibre.\n",
      "Tigers learn to hunt from their mothers, which is important but not necessary for their success. The cats normally hunt alone but families may hunt together when cubs are old enough. A tiger may travel up to  per day in search of prey, using vision and hearing to find a target. It may also station itself at a watering hole and wait for prey to come by, particularly during hot summer days. It is an ambush predator and when approaching potential prey, the tiger crouches, with head lowered, and hides in foliage. The tiger switches between creeping forward and staying still. Tigers have been recorded dozing off while in still mode, and can stay in the same spot for as long as a day waiting for prey. When it is close enough, the cat launches an attack. It can sprint  in a short distance, and leap .\n",
      "The tiger attacks from behind or at the sides and tries to knock the target off balance. It latches onto prey with its forelimbs, twisting and turning during the struggle. The tiger generally applies a bite to the throat until its target dies of strangulation. Holding onto the throat puts the cat out of reach of the horns, antlers, tusks and hooves. Tigers are adaptable killers and may use other methods, including ripping the throat or breaking the neck. Large prey may be disabled by a bite to the back of the hock, severing the tendon. Swipes from the large paws are capable of stunning or breaking to skull of a water buffalo. Small prey are killed with a bite to the back of the neck or skull. Estimates of the success rate for hunting tigers ranges from a low 5% to a high of 50%.\n",
      "With the prey dead, the tiger moves it to a private, usually vegetated spot before eating. The cat typically drags it no further than  but have been recorded moving . The tiger has the strength to carry the carcass of a fully grown buffalo for some distance, a feat three men struggle with. The cat may rest for a while before eating. While eating, a tiger can consume as much as  of meat in one sitting. It may feed on a carcass for days, leaving very little for scavengers.\n",
      "=== Enemies and competitors ===\n",
      "Tigers may kill and even prey on other predators they coexist with. In much of their range, tigers share habitat with leopards and dholes. They typically dominate both of them, though large packs of dholes can drive away a tiger, or even kill it. Tigers appear to inhabit the deep parts of a forest while these smaller predators are pushed closer to the fringes. The three predators coexist by hunting different prey. In one study, tigers were found to have killed prey that weighed an average of , in contrast to  for the leopard and  for the dhole. Leopards can live successfully in tiger habitat when there is abundant food and vegetation cover, and there is no evidence of competitive exclusion common to the African savanna, where the leopard lives beside the lion. Nevertheless, leopards avoid areas were tigers roam and are less common where tigers are numerous.\n",
      "Tigers tend to be wary of sloth bears, with their sharp claws, quickness and ability to stand on two legs. Tiger do sometimes prey on sloth bears by ambushing them when they are feeding at termite mounds. Siberian tigers may attack, kill and prey on Ussuri brown and Ussuri black bears. In turn, some studies show that brown bears frequently track down tigers to usurp their kills, with occasional fatal outcomes for the tiger.\n",
      "=== Reproduction and life cycle ===\n",
      "The tiger mates all year round, but most cubs are born between March and June, with another peak in September. A tigress is in oestrus for three to six days, inbetween three to nine week intervals. A resident male mates with all the females within his territory, who signal their receptiveness by roaring and marking. Younger, transient males are also attracted, leading to a fight in which the more dominant male drives the usurper off. During courtship, the male is cautious with the female as he waits for her to show signs she is ready to mate. She signals to him by positioning herself in lordosis with their tail to the side. Copulation is generally 20 to 25 seconds long, with the male biting the female by the scruff of her neck. After it is finished, the male quickly pulls away as the female may turn and slap him. Tiger pairs may stay together for up to four days and mate multiple times. Gestation ranges from 93 to 114 days, with an average of 103 to 105 days. \n",
      "A tigress gives birth in a secluded location, be it in dense vegetation, in a cave or under a rocky shelter. Litters consist of as many seven cubs, but two or three are more typical. Newborn cubs weigh , and are blind and altricial. The mother licks and cleans her cubs, suckles them and viscously defends them from any potential threat. She will only leave them alone to hunt, and even then does not travel far. When a mother suspects an area is no longer safe, she moves her cubs to a new spot, transporting them one by one by grabbing them by the scruff of the neck with her mouth. The mortality rate for tiger cubs can reach 50% during these early months, causes of death include predators like dholes, leopards and pythons. Young are able to see in a week, can leave the denning site in two months and around the same time they start eating meat.\n",
      "After around two months, the cubs are able to follow their mother. They still hide in vegetation when she goes hunting, and she will guide them to the kill. Cubs bond though play fighting and practice stalking. A hierarchy develops in the litter, with the biggest cub, often a male, being the most dominant and the first to eat its fill at a kill. Around the age of six months, cubs are fully weaned and have more freedom to explore their environment. Between eight and ten months, they accompany their mother on hunts. A cub can make a kill as early as 11 months, and reach independence around 18 to 24 months of age, males becoming independent earlier than females. Radio-collared tigers in Chitwan started dispersing from their natal areas earliest at the age of 19 months. Young females are sexual mature at three to four years, whereas males are at four to five years. Tigers may live up to 26 years.\n",
      "Tiger fathers play no role in raising the young, but he may encounter and interact with them. Resident males appear to visit the female-cub families within his territory. They have when observed swimming with females and their cubs and even sharing kills with them. One male was recorded looking after cubs whose mother had died. By defending his territory, the male is also protecting the females and cubs from harassment by other males. When a new male takes over a territory, cubs under a year old are at risk of being killed, as the male would want to sire his own young with the females. Older female cubs are tolerated but males may be treated as potential competitors.\n",
      "== Threats ==\n",
      "Major threats to the tiger include [destruction], [fragmentation] and poaching for fur and body parts, which have simultaneously greatly reduced tiger populations in the wild. In India, only 11% of the historical tiger habitat remains due to habitat fragmentation. Demand for tiger parts for use in traditional Chinese medicine has also been cited as a major threat to tiger populations.\n",
      "In China, tigers became the target of large-scale 'anti-pest' campaigns in the early 1950s, where suitable habitats were fragmented following deforestation and resettlement of people to rural areas, who hunted tigers and prey species. Though tiger hunting was prohibited in 1977, the population continued to decline and is considered extinct in southern China since 2001.\n",
      "In Bangladesh, tiger body parts like skins, bones, teeth and hair are consumed locally by wealthy Bangladeshis and are illegally trafficked to 15 countries including India, China, Malaysia, Korea, Vietnam, Cambodia, Japan and the United Kingdom via land borders, airports and seaports.\n",
      "== Conservation ==\n",
      "Internationally, the tiger is protected under CITES Appendix I, banning trade of live tigers and their body parts.\n",
      "In India, it has been protected since 1972 under Schedule I of the Wild Life (Protection) Act, 1972. In 1973, Project Tiger was founded to gain public support for tiger conservation, and 53 tiger reserves covering an area of  have been established in the country until 2022.\n",
      "In Nepal, it has been protected since 1973 under the National Parks and Wildlife Conservation Act, 1973.\n",
      "In Bangladesh, it has been protected since 1973 under the Wildlife (Preservation) Act and the Wildlife (Conservation and Security) Act, 2012. In 2009, the Bangladesh Tiger Action Plan was initiated to stabilize the country's tiger population, maintain habitat and a sufficient prey base, improve law enforcement and cooperation between governmental agencies responsible for tiger conservation.\n",
      " \n",
      "In the 1990s, a new approach to tiger conservation was developed: Tiger Conservation Units (TCUs), which are blocks of habitat that have the potential to host tiger populations in 15 habitat types within five bioregions. Altogether 143 TCUs were identified and prioritized based on size and integrity of habitat, poaching pressure and population status. They range in size from .\n",
      "In 2016, an estimate of a global wild tiger population of approximately 3,890 individuals was presented during the Third Asia Ministerial Conference on Tiger Conservation. The WWF subsequently declared that the world's count of wild tigers had risen for the first time in a century.\n",
      "Some estimates suggest that there are fewer than 2,500 mature breeding individuals, with no subpopulation containing more than 250 mature breeding individuals.\n",
      "India is home to the world's largest population of wild tigers. A 2014 census estimated a population of 2,226, a 30% increase since 2011. On International Tiger Day 2019, the 'Tiger Estimation Report 2018' was released by Prime Minister Narendra Modi. The report estimates a population of 2967 tigers in India with 25% increase since 2014. Modi said \"India is one of the safest habitats for tigers as it has achieved the target of doubling the tiger population from 1411 in 2011 to 2967 in 2019\". As of 2022, India accounts for 75 percent of global tiger population. The Tiger Census of 2023 reports tiger population in India at 3167.\n",
      "In the 1940s, the Siberian tiger was on the brink of extinction with only about 40 animals remaining in the wild in Russia. As a result, anti-poaching controls were put in place by the Soviet Union and a network of protected zones (zapovedniks) were instituted, leading to a rise in the population to several hundred. Poaching again became a problem in the 1990s, when the economy of Russia collapsed. The major obstacle in preserving the species is the enormous territory individual tigers require, up to  needed by a single female and more for a single male. Current conservation efforts are led by local governments and NGO's in concert with international organisations, such as the World Wide Fund for Nature and the Wildlife Conservation Society. The competitive exclusion of wolves by tigers has been used by Russian conservationists to convince hunters to tolerate the big cats. Tigers have less impact on ungulate populations than do wolves, and are effective in controlling the latter's numbers. In 2005, there were thought to be about 360 animals in Russia, though these exhibited little genetic diversity. However, in a decade later, the Siberian tiger census was estimated from 480 to 540 individuals.\n",
      "Having earlier rejected the Western-led environmentalist movement, China changed its stance in the 1980s and became a party to the CITES treaty. By 1993 it had banned the trade in tiger parts, and this diminished the use of tiger bones in traditional Chinese medicine. The Tibetan people's trade in tiger skins has also been a threat to tigers. The pelts were used in clothing, tiger-skin chuba being worn as fashion. In 2006 the 14th Dalai Lama was persuaded to take up the issue. Since then there has been a change of attitude, with some Tibetans publicly burning their chubas.\n",
      "In 1994, the Indonesian Sumatran Tiger Conservation Strategy addressed the potential crisis that tigers faced in Sumatra. The Sumatran Tiger Project (STP) was initiated in June 1995 in and around the Way Kambas National Park to ensure the long-term viability of wild Sumatran tigers and to accumulate data on tiger life-history characteristics vital for the management of wild populations. By August 1999, the teams of the STP had evaluated 52 sites of potential tiger habitat in Lampung Province, of which only 15 these were intact enough to contain tigers. In the framework of the STP a community-based conservation program was initiated to document the tiger-human dimension in the park to enable conservation authorities to resolve tiger-human conflicts based on a comprehensive database rather than anecdotes and opinions.\n",
      "The Wildlife Conservation Society and Panthera Corporation formed the collaboration Tigers Forever, with field sites including the world's largest tiger reserve, the  Hukaung Valley in Myanmar. Other reserves were in the Western Ghats in India, Thailand, Laos, Cambodia, the Russian Far East covering in total about .\n",
      "Tigers have been studied in the wild using a variety of techniques. Tiger population have been estimated using plaster casts of their pugmarks, although this method was criticized as being inaccurate. More recent techniques include the use of camera traps and studies of DNA from tiger scat, while radio-collaring has been used to track tigers in the wild. Tiger spray has been found to be just as good, or better, as a source of DNA than scat.\n",
      "== Relationship with humans ==\n",
      "=== Tiger hunting ===\n",
      "A tiger hunt is painted on the Bhimbetka rock shelters in India and dated to 5,000–6,000 years ago. Thousands of years later, Emperor Samudragupta was depicted slaying tigers on coins. Tiger hunting became an established sport under the Mughal Empire in the 16th century. The cats were chased on horseback and killed with spears. Emperor Akbar participated in such activities and one of his hunts is the subject of a painting from the Akbarnama. Following Akbar, Emperor Jahangir will introduce musket to tiger hunts and eventually, elephant would be ridden. The British East India Company would pay for bounties on tigers as early as 1757 and tiger hunting would continue under British Raj. Tiger killings were particularly high in the 19th and early 20th centuries; as an estimated 80,000 cats were killed between 1875 and 1925. King George V on his visit to Colonial India in 1911 killed 39 tigers in a matter of 10 days.\n",
      "Historically, tigers have been hunted at a large scale so their famous striped skins could be collected. The trade in tiger skins peaked in the 1960s, just before international conservation efforts took effect. By 1977, a tiger skin in an English market was considered to be worth US$4,250.\n",
      "=== Body part use ===\n",
      "Tiger parts are commonly used as amulets in South and Southeast Asia. In the Philippines, the fossils in Palawan were found besides stone tools. This, besides the evidence for cuts on the bones, and the use of fire, suggests that early humans had accumulated the bones. and the condition of the tiger subfossils, dated to approximately 12,000 to 9,000 years ago, differed from other fossils in the assemblage, dated to the Upper Paleolithic. The tiger subfossils showed longitudinal fracture of the cortical bone due to weathering, which suggests that they had post-mortem been exposed to light and air. Tiger canines were found in Ambangan sites dating to the 10th to 12th centuries in Butuan, Mindanao.\n",
      "Many people in China and other parts of Asia have a belief that various tiger parts have medicinal properties, including as pain killers and aphrodisiacs. There is no scientific evidence to support these beliefs. The use of tiger parts in pharmaceutical drugs in China is already banned, and the government has made some offences in connection with tiger poaching punishable by death. Furthermore, all trade in tiger parts is illegal under the Convention on International Trade in Endangered Species of Wild Fauna and Flora and a domestic trade ban has been in place in China since 1993.\n",
      "However, the trading of tiger parts in Asia has become a major black market industry and governmental and conservation attempts to stop it have been ineffective to date. Almost all black marketers engaged in the trade are based in China and have either been shipped and sold within their own country or into Taiwan, South Korea or Japan. The Chinese subspecies was almost completely decimated by killing for commerce due to both the parts and skin trades in the 1950s through the 1970s. Contributing to the illegal trade, there are a number of tiger farms in the country specialising in breeding them for profit. It is estimated that between 5,000 and 10,000 captive-bred, semi-tame animals live in these farms today. However, many tigers for traditional medicine black market are wild ones shot or snared by poachers and may be caught anywhere in the tiger's remaining range (from Siberia to India to the Malay Peninsula to Sumatra). In the Asian black market, a tiger penis can be worth the equivalent of around $300 U.S. dollars. In the years of 1990 through 1992, 27&nbsp;million products with tiger derivatives were found. In July 2014 at an international convention on endangered species in Geneva, Switzerland, a Chinese representative admitted for the first time his government was aware trading in tiger skins was occurring in China.\n",
      "===Attacks===\n",
      "Tigers are said to have directly killed more people than any other wild mammal. In most areas, the big cats typically avoid humans, but attacks are a risk wherever people coexist with them. Dangerous encounters are more likely to occur in edge habitats, between wild and agricultural areas. Most attacks on humans are defensive, including protection of young. However, tiger do sometimes see people as potential prey. Tigers hunt people the same way they hunt other prey, by ambush and with a killing bite to the neck. A tiger inflicted wound also carries the risk of infection. Man-eating tigers tend to be old and disabled. Those they have been driven from their home ranges and territories are also at risk be turning to man-eating. \n",
      "The Champawat Tiger was responsible for an estimated 434 human deaths in Nepal and India before she was shot by Jim Corbett. Corbett recorded that the tigress suffered from broken teeth and thus unable to kill normal prey. Modern authors speculate that feeding on meagre human flesh forced the cat to kill more and more. Tiger attacks were particularly high in Singapore during the mid-19th century, when plantations expanded into the animal's habitat. The number of deaths ranged from 200 to 300 annually in the 1840s.\n",
      "Tiger predation on humans is highest in the Sundarbans. An estimated 129 people were killed between 1969 and 1971. In the 10 years prior to that period, about 100 attacks per year in the Sundarbans. Victims of tigers attacks are local villagers who entered the tiger's domain to collect resources like wood and honey. Fishermen have been particularly common targets. Methods to counter tiger attacks have included face-masks (worn backwards), protective clothes, sticks and carefully stationed electric dummies. These tools have been credited with reducing tiger attacks to only 22 per year in the 1980s.  Because of rapid habitat loss attributed to climate change, tiger attacks have increased in the Sundarbans in the 21 century.\n",
      "=== In captivity ===\n",
      "In Ancient Roman times, tigers were kept in menageries and amphitheatres to be exhibited, trained and paraded, and were often provoked to fight gladiators and other exotic beasts. Since the 17th century, tigers were sought after to be kept at European castles as symbols of their owners' power. Tigers became zoo and circus exhibits in the 18th century: a tiger could cost up to 4,000 francs in France.\n",
      "In 2007, over 4,000 captive tigers lived in China, of which 3,000 were held by about 20 larger facilities, with the rest held by some 200 smaller facilities. In 2011, 468 facilities in the USA kept 2,884 tigers. Nineteen US states banned private ownership of tigers, a license is required in 15 states, and 16 states have no regulation. Many captive tigers are actually the result of crosses between Siberian and Bengal tigers.\n",
      "== Cultural depictions ==\n",
      "Tigers and their superlative qualities have been a source of fascination for humans since ancient times, and they are routinely visible as important cultural and media motifs. They are also considered one of the charismatic megafauna, and are used as the face of conservation campaigns worldwide. In a 2004 online poll conducted by cable television channel Animal Planet, involving more than 50,000 viewers from 73 countries, the tiger was voted the world's favourite animal with 21% of the vote, narrowly beating the dog.\n",
      "=== Mythology and legend ===\n",
      "In Chinese mythology and culture, the tiger is one of the 12 animals of the Chinese zodiac. In Chinese art, the tiger is depicted as an earth symbol and equal rival of the Chinese dragon – the two representing matter and spirit respectively. The Southern Chinese martial art Hung Ga is based on the movements of the tiger and the crane. In Imperial China, a tiger was the personification of war and often represented the highest army General Officer, while the emperor and empress were represented by a dragon and phoenix, respectively. The White Tiger () is one of the Four Symbols of the Chinese constellations. It is sometimes called the White Tiger of the West (), and it represents the west and the autumn season.\n",
      "The tiger's tail appears in stories from countries including China and Korea, it being generally inadvisable to grasp a tiger by the tail. In Korean mythology and culture, the tiger is regarded as a guardian that drives away evil spirits and a sacred creature that brings good luck – the symbol of courage and absolute power. For the people who live in and around the forests of Korea, the tiger considered the symbol of the Mountain Spirit or King of mountain animals.\n",
      "In Buddhism, the tiger is one of the Three Senseless Creatures, symbolising anger, with the monkey representing greed and the deer lovesickness. The Tungusic peoples considered the Siberian tiger a near-deity and often referred to it as \"Grandfather\" or \"Old man\". The Udege and Nanai called it \"Amba\". The Manchu people considered the Siberian tiger as \"Hu Lin\", the king. In Hinduism, the god Shiva wears and sits on tiger skin. The ten-armed warrior goddess Durga rides the tigress (or lioness) Damon into battle. In southern India the god Ayyappan was associated with a tiger. Dingu-Aneni is the god in North-East India is also associated with tiger. The weretiger replaces the werewolf in shapeshifting folklore in Asia; in India they were evil sorcerers, while in Indonesia and Malaysia they were somewhat more benign.\n",
      "In Taiwanese folk beliefs, Aunt Tiger portrays the story of a tiger, which turns into an old woman, abducts children at night and devours them to satisfy her appetite. In the Greco-Roman world, the tiger was depicted being ridden by the god Dionysus.\n",
      "=== Literature and media ===\n",
      "In the Hindu epic Mahabharata, the tiger is fiercer and more ruthless than the lion. William Blake's poem \"The Tyger\" portrays the tiger as a menacing and fearful animal, and the tiger Shere Khan in Rudyard Kipling's 1894 The Jungle Book is the mortal enemy of the human protagonist. Yann Martel's novel Life of Pi features the title character surviving shipwreck for months on a small boat with a large Bengal tiger while avoiding being eaten. The story was adapted in Ang Lee's feature film of the same name in 2012.\n",
      "Friendly tiger characters include Tigger in A. A. Milne's Winnie-the-Pooh and Hobbes of the comic strip Calvin and Hobbes, both represented as stuffed animals come to life. Tony the Tiger is a famous mascot for Kellogg's breakfast cereal Frosted Flakes.\n",
      "=== Heraldry and emblems ===\n",
      "The tiger is one of the animals displayed on the Pashupati seal of the Indus Valley civilisation. The tiger was the emblem of the Chola Dynasty and was depicted on coins, seals and banners. The seals of several Chola copper coins show the tiger, the Pandyan emblem fish and the Chera emblem bow, indicating that the Cholas had achieved political supremacy over the latter two dynasties. Gold coins found in Kavilayadavalli in the Nellore district of Andhra Pradesh have motifs of the tiger, bow and some indistinct marks. The tiger symbol of Chola Empire was later adopted by the Liberation Tigers of Tamil Eelam and the tiger became a symbol of the unrecognised state of Tamil Eelam and Tamil independence movement. The Bengal tiger is the national animal of India and Bangladesh. The Malaysian tiger is the national animal of Malaysia. The Siberian tiger is the national animal of South Korea. The Tiger is featured on the logo of the Delhi Capitals Indian Premier League team.\n",
      "In European heraldry, the tyger, a depiction of a tiger as imagined by European artists, is among the creatures used in charges and supporters. This creature has several notable differences from real tigers, lacking stripes and having a leonine tufted tail and a head terminating in large, pointed jaws. A more realistic tiger entered the heraldic armory through the British Empire's expansion into Asia, and is referred to as the Bengal tiger to distinguish it from its older counterpart. The Bengal tiger is not a common creature in heraldry, but is used as a supporter in the arms of Bombay and emblazoned on the shield of the University of Madras.\n",
      "== See also ==\n",
      "Siegfried & Roy, two famous tamers of tigers\n",
      "List of largest cats\n",
      "Tiger King, a 2020 crime documentary series on the exotic pet trade\n",
      "== References ==\n",
      "===Bibliography===\n",
      "== External links ==\n",
      "Apex predators\n",
      "Big cats\n",
      "Conservation-reliant species\n",
      "EDGE species\n",
      "Extant Pleistocene first appearances\n",
      "Fauna of South Asia\n",
      "Fauna of Southeast Asia\n",
      "Felids of Asia\n",
      "Mammals described in 1758\n",
      "Mammals of East Asia\n",
      "National symbols of India\n",
      "National symbols of Bangladesh\n",
      "National symbols of Malaysia\n",
      "National symbols of Singapore\n",
      "Panthera\n",
      "Species endangered by agricultural development\n",
      "Species endangered by deliberate extirpation efforts\n",
      "Species endangered by human consumption for medicinal or magical purposes\n",
      "Species endangered by logging\n",
      "Species endangered by urbanization\n",
      "Taxa named by Carl Linnaeus\n"
     ]
    }
   ],
   "source": [
    "print(wikiresult_withContent[\"title\"])\n",
    "print(wikiresult_withContent[\"url\"])\n",
    "print(wikiresult_withContent[\"summary\"])"
   ]
  },
  {
   "cell_type": "code",
   "execution_count": null,
   "metadata": {},
   "outputs": [],
   "source": []
  }
 ],
 "metadata": {
  "kernelspec": {
   "display_name": "nineSemEnv",
   "language": "python",
   "name": "python3"
  },
  "language_info": {
   "codemirror_mode": {
    "name": "ipython",
    "version": 3
   },
   "file_extension": ".py",
   "mimetype": "text/x-python",
   "name": "python",
   "nbconvert_exporter": "python",
   "pygments_lexer": "ipython3",
   "version": "3.11.6"
  }
 },
 "nbformat": 4,
 "nbformat_minor": 2
}
